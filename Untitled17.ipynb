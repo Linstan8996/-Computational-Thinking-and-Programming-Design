{
  "nbformat": 4,
  "nbformat_minor": 0,
  "metadata": {
    "colab": {
      "name": "Untitled17.ipynb",
      "provenance": []
    },
    "kernelspec": {
      "name": "python3",
      "display_name": "Python 3"
    }
  },
  "cells": [
    {
      "cell_type": "code",
      "metadata": {
        "id": "PUNEWF5wxLJW",
        "colab_type": "code",
        "colab": {
          "base_uri": "https://localhost:8080/",
          "height": 35
        },
        "outputId": "a2a9f4f8-0abd-4f8f-bc61-a1bb09abdad4"
      },
      "source": [
        "x=5\n",
        "if x < 10:\n",
        "    print(\"x is less than 10\")\n"
      ],
      "execution_count": 2,
      "outputs": [
        {
          "output_type": "stream",
          "text": [
            "x is less than 10\n"
          ],
          "name": "stdout"
        }
      ]
    },
    {
      "cell_type": "code",
      "metadata": {
        "id": "iRfTMBVtyh3Q",
        "colab_type": "code",
        "colab": {
          "base_uri": "https://localhost:8080/",
          "height": 208
        },
        "outputId": "1b98850b-72ac-499a-ddb3-3759d244d88e"
      },
      "source": [
        "x=5\n",
        "while x < 10:\n",
        "     print(\"x is less than 10\")\n",
        "     print(\"i am still here\")\n",
        "     x = x+1\n",
        "print(\"Finished\")     "
      ],
      "execution_count": 3,
      "outputs": [
        {
          "output_type": "stream",
          "text": [
            "x is less than 10\n",
            "i am still here\n",
            "x is less than 10\n",
            "i am still here\n",
            "x is less than 10\n",
            "i am still here\n",
            "x is less than 10\n",
            "i am still here\n",
            "x is less than 10\n",
            "i am still here\n",
            "Finished\n"
          ],
          "name": "stdout"
        }
      ]
    },
    {
      "cell_type": "code",
      "metadata": {
        "id": "J6eGegQpzLDm",
        "colab_type": "code",
        "colab": {
          "base_uri": "https://localhost:8080/",
          "height": 104
        },
        "outputId": "a8980bad-f41b-4f0b-cfe4-54ae084fae31"
      },
      "source": [
        "x = 1\n",
        "while x < 5 :\n",
        "    print(\"X is\",x)\n",
        "    x=x+1\n",
        "print(\"Finished\")    "
      ],
      "execution_count": 4,
      "outputs": [
        {
          "output_type": "stream",
          "text": [
            "X is 1\n",
            "X is 2\n",
            "X is 3\n",
            "X is 4\n",
            "Finished\n"
          ],
          "name": "stdout"
        }
      ]
    },
    {
      "cell_type": "code",
      "metadata": {
        "id": "lPPtOpxkzraf",
        "colab_type": "code",
        "colab": {
          "base_uri": "https://localhost:8080/",
          "height": 208
        },
        "outputId": "93ee4b27-6243-4312-f425-d5454ee522d0"
      },
      "source": [
        "x = 1\n",
        "while x<= 10:\n",
        "    print(\"Hello\")\n",
        "    x=x+1\n",
        "print(\"Finished\")    "
      ],
      "execution_count": 6,
      "outputs": [
        {
          "output_type": "stream",
          "text": [
            "Hello\n",
            "Hello\n",
            "Hello\n",
            "Hello\n",
            "Hello\n",
            "Hello\n",
            "Hello\n",
            "Hello\n",
            "Hello\n",
            "Hello\n",
            "Finished\n"
          ],
          "name": "stdout"
        }
      ]
    },
    {
      "cell_type": "code",
      "metadata": {
        "id": "gTOAJ2FOz8LT",
        "colab_type": "code",
        "colab": {
          "base_uri": "https://localhost:8080/",
          "height": 208
        },
        "outputId": "5d5f3540-9ec6-4aec-e129-994310ca4e85"
      },
      "source": [
        "x = 1\n",
        "while x<= 10:\n",
        "    print(\"this is\",x,\" times Hello\")\n",
        "    x=x+1\n",
        "print(\"Finished\")    "
      ],
      "execution_count": 7,
      "outputs": [
        {
          "output_type": "stream",
          "text": [
            "this is 1  times Hello\n",
            "this is 2  times Hello\n",
            "this is 3  times Hello\n",
            "this is 4  times Hello\n",
            "this is 5  times Hello\n",
            "this is 6  times Hello\n",
            "this is 7  times Hello\n",
            "this is 8  times Hello\n",
            "this is 9  times Hello\n",
            "this is 10  times Hello\n",
            "Finished\n"
          ],
          "name": "stdout"
        }
      ]
    },
    {
      "cell_type": "code",
      "metadata": {
        "id": "FO5rvtvg0iw1",
        "colab_type": "code",
        "colab": {
          "base_uri": "https://localhost:8080/",
          "height": 208
        },
        "outputId": "59108ee6-250a-4272-9fb5-b631aa387303"
      },
      "source": [
        "x = 0\n",
        "\n",
        "while x< 10:\n",
        "    x=x+1\n",
        "    left = 10-x\n",
        "    print(\"this is\",x,\" times Hello\",\"you still have\",left,\"times\" )\n",
        "print(\"Finished\")    "
      ],
      "execution_count": 8,
      "outputs": [
        {
          "output_type": "stream",
          "text": [
            "this is 1  times Hello you still have 9 times\n",
            "this is 2  times Hello you still have 8 times\n",
            "this is 3  times Hello you still have 7 times\n",
            "this is 4  times Hello you still have 6 times\n",
            "this is 5  times Hello you still have 5 times\n",
            "this is 6  times Hello you still have 4 times\n",
            "this is 7  times Hello you still have 3 times\n",
            "this is 8  times Hello you still have 2 times\n",
            "this is 9  times Hello you still have 1 times\n",
            "this is 10  times Hello you still have 0 times\n",
            "Finished\n"
          ],
          "name": "stdout"
        }
      ]
    },
    {
      "cell_type": "code",
      "metadata": {
        "id": "y-iTvldf1XT_",
        "colab_type": "code",
        "colab": {
          "base_uri": "https://localhost:8080/",
          "height": 208
        },
        "outputId": "b39c2ced-1de5-4c93-c4e7-c6658d842193"
      },
      "source": [
        "x = 0\n",
        "sum=0\n",
        "\n",
        "while x< 10:\n",
        "     x=x+1\n",
        "     sum=sum+x\n",
        "     print(\"Sum is \",sum)\n",
        "print(\"Finished\")     "
      ],
      "execution_count": 9,
      "outputs": [
        {
          "output_type": "stream",
          "text": [
            "Sum is  1\n",
            "Sum is  3\n",
            "Sum is  6\n",
            "Sum is  10\n",
            "Sum is  15\n",
            "Sum is  21\n",
            "Sum is  28\n",
            "Sum is  36\n",
            "Sum is  45\n",
            "Sum is  55\n",
            "Finished\n"
          ],
          "name": "stdout"
        }
      ]
    },
    {
      "cell_type": "code",
      "metadata": {
        "id": "F9ss_e-Y2DeT",
        "colab_type": "code",
        "colab": {
          "base_uri": "https://localhost:8080/",
          "height": 381
        },
        "outputId": "4c7d497e-cd64-41df-af05-a2dd6b42cc6f"
      },
      "source": [
        "x = 0\n",
        "sum=0\n",
        "\n",
        "while sum<= 50:\n",
        "     x=x+1\n",
        "     sum=sum+x\n",
        "     print(\"X is\",x)\n",
        "     print(\"Sum is \",sum)\n",
        "\n",
        "print(\"Finished\")     "
      ],
      "execution_count": 10,
      "outputs": [
        {
          "output_type": "stream",
          "text": [
            "X is 1\n",
            "Sum is  1\n",
            "X is 2\n",
            "Sum is  3\n",
            "X is 3\n",
            "Sum is  6\n",
            "X is 4\n",
            "Sum is  10\n",
            "X is 5\n",
            "Sum is  15\n",
            "X is 6\n",
            "Sum is  21\n",
            "X is 7\n",
            "Sum is  28\n",
            "X is 8\n",
            "Sum is  36\n",
            "X is 9\n",
            "Sum is  45\n",
            "X is 10\n",
            "Sum is  55\n",
            "Finished\n"
          ],
          "name": "stdout"
        }
      ]
    },
    {
      "cell_type": "code",
      "metadata": {
        "id": "-H41TXS32o6g",
        "colab_type": "code",
        "colab": {
          "base_uri": "https://localhost:8080/",
          "height": 35
        },
        "outputId": "499ae851-069f-458b-bf97-6398b095f32a"
      },
      "source": [
        "sum = 0\n",
        "x=1\n",
        "\n",
        "while x< 11:\n",
        "     sum=sum+x\n",
        "     x=x+2\n",
        "print(\"1+3+5+7+9=\",sum)     "
      ],
      "execution_count": 11,
      "outputs": [
        {
          "output_type": "stream",
          "text": [
            "1+3+5+7+9= 25\n"
          ],
          "name": "stdout"
        }
      ]
    },
    {
      "cell_type": "code",
      "metadata": {
        "id": "G2SpI0BU3BQV",
        "colab_type": "code",
        "colab": {
          "base_uri": "https://localhost:8080/",
          "height": 35
        },
        "outputId": "3bc3ea9c-3521-4f92-822b-b82e09a56976"
      },
      "source": [
        "sum = 0\n",
        "x=0\n",
        "\n",
        "while sum<=1000:\n",
        "      x=x+1\n",
        "      sum=sum + x*x\n",
        "print(\"最小的N值為\",x)      "
      ],
      "execution_count": 12,
      "outputs": [
        {
          "output_type": "stream",
          "text": [
            "最小的N值為 14\n"
          ],
          "name": "stdout"
        }
      ]
    },
    {
      "cell_type": "code",
      "metadata": {
        "id": "S_wTI9YK3nqp",
        "colab_type": "code",
        "colab": {}
      },
      "source": [
        ""
      ],
      "execution_count": 0,
      "outputs": []
    }
  ]
}