{
  "nbformat": 4,
  "nbformat_minor": 0,
  "metadata": {
    "colab": {
      "name": "w9a108260056林佳澐.ipynb",
      "provenance": []
    },
    "kernelspec": {
      "name": "python3",
      "display_name": "Python 3"
    }
  },
  "cells": [
    {
      "cell_type": "code",
      "metadata": {
        "id": "ji9m0f6lPitK",
        "colab_type": "code",
        "colab": {
          "base_uri": "https://localhost:8080/",
          "height": 121
        },
        "outputId": "24aa1328-4cb1-4b95-da8a-143e7cbbeed2"
      },
      "source": [
        "print(8==7)\n",
        "print(8!=7)\n",
        "print(8>7)\n",
        "print(8>=7)\n",
        "print(8<7)\n",
        "print(8<=7)"
      ],
      "execution_count": 2,
      "outputs": [
        {
          "output_type": "stream",
          "text": [
            "False\n",
            "True\n",
            "True\n",
            "True\n",
            "False\n",
            "False\n"
          ],
          "name": "stdout"
        }
      ]
    },
    {
      "cell_type": "code",
      "metadata": {
        "id": "EvtWDUHbRqaJ",
        "colab_type": "code",
        "colab": {
          "base_uri": "https://localhost:8080/",
          "height": 69
        },
        "outputId": "279285cf-32a2-488d-fe1e-5a0a2314bfd4"
      },
      "source": [
        "print(True and False )\n",
        "print(True or False)\n",
        "print(not(8>7))"
      ],
      "execution_count": 3,
      "outputs": [
        {
          "output_type": "stream",
          "text": [
            "False\n",
            "True\n",
            "False\n"
          ],
          "name": "stdout"
        }
      ]
    },
    {
      "cell_type": "code",
      "metadata": {
        "id": "p7tNibeiTM_d",
        "colab_type": "code",
        "colab": {
          "base_uri": "https://localhost:8080/",
          "height": 69
        },
        "outputId": "375d580b-5bea-4cb9-cb1c-331d9a47b2e2"
      },
      "source": [
        "x=70\n",
        "print((x>60) and (x<80))\n",
        "print((x>60) or (x<80))\n",
        "print(not(x>60))"
      ],
      "execution_count": 4,
      "outputs": [
        {
          "output_type": "stream",
          "text": [
            "True\n",
            "True\n",
            "False\n"
          ],
          "name": "stdout"
        }
      ]
    },
    {
      "cell_type": "code",
      "metadata": {
        "id": "MR8UlqMHUC_n",
        "colab_type": "code",
        "colab": {
          "base_uri": "https://localhost:8080/",
          "height": 121
        },
        "outputId": "8ddf9e52-cb4a-49b4-8763-80b0899679c6"
      },
      "source": [
        "print(8 is 7)\n",
        "print(8 is not 7)\n",
        "print(\"H\"in \"Hello World\")\n",
        "print(\"H\"not in \"Hello world\")\n",
        "x=1\n",
        "y=[1,2,3]\n",
        "print(x in y)\n",
        "print(x not in y)\n"
      ],
      "execution_count": 6,
      "outputs": [
        {
          "output_type": "stream",
          "text": [
            "False\n",
            "True\n",
            "True\n",
            "False\n",
            "True\n",
            "False\n"
          ],
          "name": "stdout"
        }
      ]
    },
    {
      "cell_type": "code",
      "metadata": {
        "id": "TnEnj0tNWBvu",
        "colab_type": "code",
        "colab": {
          "base_uri": "https://localhost:8080/",
          "height": 52
        },
        "outputId": "63d5db62-296e-4270-ee3c-777e1c12644f"
      },
      "source": [
        "score=int(input('請輸入一個成績?'))\n",
        "if score >= 60:\n",
        "    print('很好請繼續保持下去')"
      ],
      "execution_count": 9,
      "outputs": [
        {
          "output_type": "stream",
          "text": [
            "請輸入一個成績?88\n",
            "很好請繼續保持下去\n"
          ],
          "name": "stdout"
        }
      ]
    },
    {
      "cell_type": "code",
      "metadata": {
        "id": "psWOp3JYXdQ4",
        "colab_type": "code",
        "colab": {
          "base_uri": "https://localhost:8080/",
          "height": 52
        },
        "outputId": "4b7f224b-af4b-4d76-f3ac-99c7ac1e5877"
      },
      "source": [
        "score=int(input('請輸入一個成績?'))\n",
        "if score >= 60:\n",
        "    print('有及格喔')\n",
        "else:\n",
        "     print('不及格喔')"
      ],
      "execution_count": 10,
      "outputs": [
        {
          "output_type": "stream",
          "text": [
            "請輸入一個成績?50\n",
            "不及格喔\n"
          ],
          "name": "stdout"
        }
      ]
    },
    {
      "cell_type": "code",
      "metadata": {
        "id": "UwFtv4VcYfAC",
        "colab_type": "code",
        "colab": {
          "base_uri": "https://localhost:8080/",
          "height": 52
        },
        "outputId": "03dc1c9b-bc3c-4487-887b-1750ce9737ef"
      },
      "source": [
        "score=int(input('請輸入一個成績'))\n",
        "if score >=80:\n",
        "    print('非常好')\n",
        "elif score >=60:\n",
        "    print('不錯喔')\n",
        "else:\n",
        "    print('要加油')"
      ],
      "execution_count": 11,
      "outputs": [
        {
          "output_type": "stream",
          "text": [
            "請輸入一個成績66\n",
            "不錯喔\n"
          ],
          "name": "stdout"
        }
      ]
    },
    {
      "cell_type": "code",
      "metadata": {
        "id": "C2Ss8L8hZ_Cx",
        "colab_type": "code",
        "colab": {
          "base_uri": "https://localhost:8080/",
          "height": 69
        },
        "outputId": "aa4fb1a8-8d7f-479c-e55b-eefcde289e63"
      },
      "source": [
        "x=float(input('請輸入該點的x座標'))\n",
        "y=float(input('請輸入該點的y座標'))\n",
        "\n",
        "if(x>0):\n",
        "   if (y>0):\n",
        "    print('該點在第一象限')\n",
        "   else:\n",
        "     print('該點在第四象限')\n",
        "else:\n",
        "    if(y>0):\n",
        "      print('該點在第二象限')  \n"
      ],
      "execution_count": 6,
      "outputs": [
        {
          "output_type": "stream",
          "text": [
            "請輸入該點的x座標1\n",
            "請輸入該點的y座標1\n",
            "該點在第一象限\n"
          ],
          "name": "stdout"
        }
      ]
    },
    {
      "cell_type": "code",
      "metadata": {
        "id": "8aNL7iqfFrFL",
        "colab_type": "code",
        "colab": {
          "base_uri": "https://localhost:8080/",
          "height": 52
        },
        "outputId": "a2809ebd-969f-4bf9-86f3-0ed3eaa0ba84"
      },
      "source": [
        "cost=int(input('請輸入購買金額?'))\n",
        "if cost >=2000:\n",
        "    print(cost*0.9)\n",
        "else:\n",
        "    print(cost)   "
      ],
      "execution_count": 8,
      "outputs": [
        {
          "output_type": "stream",
          "text": [
            "請輸入購買金額?2000\n",
            "1800.0\n"
          ],
          "name": "stdout"
        }
      ]
    },
    {
      "cell_type": "code",
      "metadata": {
        "id": "Zb6GioYHIILE",
        "colab_type": "code",
        "colab": {
          "base_uri": "https://localhost:8080/",
          "height": 52
        },
        "outputId": "9c382acb-8309-4deb-b875-aaa8a5bf7307"
      },
      "source": [
        "num=int(input('請輸入一個整數'))\n",
        "if num % 2 == 0:\n",
        "     print(num, '為偶數') \n",
        "else:\n",
        "     print(num,'為奇數')    \n"
      ],
      "execution_count": 10,
      "outputs": [
        {
          "output_type": "stream",
          "text": [
            "請輸入一個整數13\n",
            "13 為奇數\n"
          ],
          "name": "stdout"
        }
      ]
    },
    {
      "cell_type": "code",
      "metadata": {
        "id": "Gr10dmDiKpQc",
        "colab_type": "code",
        "colab": {
          "base_uri": "https://localhost:8080/",
          "height": 52
        },
        "outputId": "3169f976-09d7-42a3-af8d-47c4b2032aab"
      },
      "source": [
        "num=int(input('請輸入一個整數?'))\n",
        "if num % 2 == 1:\n",
        "    print(num,'為奇數' )\n",
        "else:\n",
        "    print(num, '為偶數') \n"
      ],
      "execution_count": 11,
      "outputs": [
        {
          "output_type": "stream",
          "text": [
            "請輸入一個整數?13\n",
            "13 為奇數\n"
          ],
          "name": "stdout"
        }
      ]
    },
    {
      "cell_type": "code",
      "metadata": {
        "id": "1IkpmwFBLgEH",
        "colab_type": "code",
        "colab": {
          "base_uri": "https://localhost:8080/",
          "height": 87
        },
        "outputId": "43e81537-bee0-4da3-cef9-c2c459dd82a3"
      },
      "source": [
        "a=int(input('請輸入三角形邊長a長度為?'))\n",
        "b=int(input('請輸入三角形邊長b長度為?'))\n",
        "c=int(input('請輸入三角形邊長c長度為?'))   \n",
        "if (a<b+c)and(b<a+c)and(c<a+b):\n",
        "     print('可構成三角形')\n",
        "else:\n",
        "     print('無法構成三角形')     "
      ],
      "execution_count": 12,
      "outputs": [
        {
          "output_type": "stream",
          "text": [
            "請輸入三角形邊長a長度為?11\n",
            "請輸入三角形邊長b長度為?12\n",
            "請輸入三角形邊長c長度為?13\n",
            "可構成三角形\n"
          ],
          "name": "stdout"
        }
      ]
    },
    {
      "cell_type": "code",
      "metadata": {
        "id": "XCVRckxqVbBk",
        "colab_type": "code",
        "colab": {
          "base_uri": "https://localhost:8080/",
          "height": 87
        },
        "outputId": "e9a02203-58d0-44c0-fa92-c7c98a2d2c57"
      },
      "source": [
        "w=float(input('請輸入體重(KG)?'))\n",
        "h=float(input('請輸入身高(M)?)'))\n",
        "bmi = w/(h*h)\n",
        "print('BMI為', bmi)\n",
        "\n",
        "\n",
        "if bmi<18:\n",
        "    print('體重過輕')\n",
        "elif bmi<24:\n",
        "    print('體重正常')\n",
        "elif bmi<27:\n",
        "    print('體重過重')\n",
        "else:\n",
        "    print('體重肥胖')\n"
      ],
      "execution_count": 18,
      "outputs": [
        {
          "output_type": "stream",
          "text": [
            "請輸入體重(KG)?75\n",
            "請輸入身高(M)?)1.7\n",
            "BMI為 25.95155709342561\n",
            "體重過重\n"
          ],
          "name": "stdout"
        }
      ]
    },
    {
      "cell_type": "code",
      "metadata": {
        "id": "oxVZRZHuXzR-",
        "colab_type": "code",
        "colab": {}
      },
      "source": [
        "7"
      ],
      "execution_count": 0,
      "outputs": []
    }
  ]
}