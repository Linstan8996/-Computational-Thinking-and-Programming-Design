{
  "nbformat": 4,
  "nbformat_minor": 0,
  "metadata": {
    "colab": {
      "name": "Untitled21.ipynb",
      "provenance": [],
      "include_colab_link": true
    },
    "kernelspec": {
      "name": "python3",
      "display_name": "Python 3"
    }
  },
  "cells": [
    {
      "cell_type": "markdown",
      "metadata": {
        "id": "view-in-github",
        "colab_type": "text"
      },
      "source": [
        "<a href=\"https://colab.research.google.com/github/Linstan8996/-Computational-Thinking-and-Programming-Design/blob/master/Untitled21.ipynb\" target=\"_parent\"><img src=\"https://colab.research.google.com/assets/colab-badge.svg\" alt=\"Open In Colab\"/></a>"
      ]
    },
    {
      "cell_type": "code",
      "metadata": {
        "id": "RyAcKSc6sIP9",
        "colab_type": "code",
        "colab": {
          "base_uri": "https://localhost:8080/",
          "height": 102
        },
        "outputId": "8f3b2aa5-ca2b-48f1-c9bc-ad5d9507946d"
      },
      "source": [
        "sum = 0\n",
        "for i in range(1, 10, 2):\n",
        "     sum = sum + i\n",
        "     print(\"when i is\" , i ,\",the sum is\", sum)"
      ],
      "execution_count": 3,
      "outputs": [
        {
          "output_type": "stream",
          "text": [
            "when i is 1 ,the sum is 1\n",
            "when i is 3 ,the sum is 4\n",
            "when i is 5 ,the sum is 9\n",
            "when i is 7 ,the sum is 16\n",
            "when i is 9 ,the sum is 25\n"
          ],
          "name": "stdout"
        }
      ]
    },
    {
      "cell_type": "code",
      "metadata": {
        "id": "D6p2omsYugxS",
        "colab_type": "code",
        "colab": {
          "base_uri": "https://localhost:8080/",
          "height": 51
        },
        "outputId": "7f32d38c-a958-41a6-9d3d-fcba8c75dfa5"
      },
      "source": [
        "n = int(input('the number n ,'))\n",
        "sum = 0\n",
        "for i in range(1, n+1, 1):\n",
        "    sum = sum + i*i\n",
        "print(sum)"
      ],
      "execution_count": 13,
      "outputs": [
        {
          "output_type": "stream",
          "text": [
            "the number n ,5\n",
            "55\n"
          ],
          "name": "stdout"
        }
      ]
    },
    {
      "cell_type": "code",
      "metadata": {
        "id": "se051S02u_H_",
        "colab_type": "code",
        "colab": {
          "base_uri": "https://localhost:8080/",
          "height": 85
        },
        "outputId": "9a20cd44-6883-4e29-e377-fbc566f1ec90"
      },
      "source": [
        "start = 3\n",
        "end = 13\n",
        "step = 3\n",
        "sum = 0\n",
        "for i in  range(start, end, step):\n",
        "     sum = sum + i\n",
        "     print(sum)"
      ],
      "execution_count": 16,
      "outputs": [
        {
          "output_type": "stream",
          "text": [
            "3\n",
            "9\n",
            "18\n",
            "30\n"
          ],
          "name": "stdout"
        }
      ]
    },
    {
      "cell_type": "code",
      "metadata": {
        "id": "szP42dSkxfzF",
        "colab_type": "code",
        "colab": {
          "base_uri": "https://localhost:8080/",
          "height": 54
        },
        "outputId": "b49cc64f-4692-4ab2-c28c-35319e1c9440"
      },
      "source": [
        "for i in range(1 , 10, 1):\n",
        "    for j in range(1,10,1):\n",
        "         print(i, \"*\",j, \"=\", i*j, \"\\t\" , sep=\"\" , end = \"\")"
      ],
      "execution_count": 18,
      "outputs": [
        {
          "output_type": "stream",
          "text": [
            "1*1=1\t1*2=2\t1*3=3\t1*4=4\t1*5=5\t1*6=6\t1*7=7\t1*8=8\t1*9=9\t2*1=2\t2*2=4\t2*3=6\t2*4=8\t2*5=10\t2*6=12\t2*7=14\t2*8=16\t2*9=18\t3*1=3\t3*2=6\t3*3=9\t3*4=12\t3*5=15\t3*6=18\t3*7=21\t3*8=24\t3*9=27\t4*1=4\t4*2=8\t4*3=12\t4*4=16\t4*5=20\t4*6=24\t4*7=28\t4*8=32\t4*9=36\t5*1=5\t5*2=10\t5*3=15\t5*4=20\t5*5=25\t5*6=30\t5*7=35\t5*8=40\t5*9=45\t6*1=6\t6*2=12\t6*3=18\t6*4=24\t6*5=30\t6*6=36\t6*7=42\t6*8=48\t6*9=54\t7*1=7\t7*2=14\t7*3=21\t7*4=28\t7*5=35\t7*6=42\t7*7=49\t7*8=56\t7*9=63\t8*1=8\t8*2=16\t8*3=24\t8*4=32\t8*5=40\t8*6=48\t8*7=56\t8*8=64\t8*9=72\t9*1=9\t9*2=18\t9*3=27\t9*4=36\t9*5=45\t9*6=54\t9*7=63\t9*8=72\t9*9=81\t"
          ],
          "name": "stdout"
        }
      ]
    },
    {
      "cell_type": "code",
      "metadata": {
        "id": "Rftir-zR2eax",
        "colab_type": "code",
        "colab": {
          "base_uri": "https://localhost:8080/",
          "height": 170
        },
        "outputId": "569e993a-355a-499b-bfdc-f166029f5ce7"
      },
      "source": [
        "for i in range(6):\n",
        "    print(i)\n",
        "    if i % 2 == 0:\n",
        "         print(i, \"is even\")\n",
        "    else:\n",
        "         continue\n",
        "         print(i, \"is odd\")    \n",
        "    "
      ],
      "execution_count": 25,
      "outputs": [
        {
          "output_type": "stream",
          "text": [
            "0\n",
            "0 is even\n",
            "1\n",
            "2\n",
            "2 is even\n",
            "3\n",
            "4\n",
            "4 is even\n",
            "5\n"
          ],
          "name": "stdout"
        }
      ]
    },
    {
      "cell_type": "code",
      "metadata": {
        "id": "1XgeG8cF3x9A",
        "colab_type": "code",
        "colab": {}
      },
      "source": [
        ""
      ],
      "execution_count": 0,
      "outputs": []
    }
  ]
}