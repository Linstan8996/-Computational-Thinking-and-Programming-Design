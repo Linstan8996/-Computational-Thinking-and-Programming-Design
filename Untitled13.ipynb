{
  "nbformat": 4,
  "nbformat_minor": 0,
  "metadata": {
    "colab": {
      "name": "Untitled13.ipynb",
      "provenance": []
    },
    "kernelspec": {
      "name": "python3",
      "display_name": "Python 3"
    }
  },
  "cells": [
    {
      "cell_type": "code",
      "metadata": {
        "id": "_iWGFvcWUejG",
        "colab_type": "code",
        "colab": {
          "base_uri": "https://localhost:8080/",
          "height": 104
        },
        "outputId": "929e5e3a-407f-45c4-dc45-cf7af7d5ca65"
      },
      "source": [
        "print(\"You are on a deserted in a 2D island.\")\n",
        "print(\"Try to survive until rescue arrives! \")\n",
        "print(\"Available commands are in CAPITAL letters.\")\n",
        "print(\"Any other command exits the program\")\n",
        "\n",
        "print(\"First Look around. . .\")"
      ],
      "execution_count": 1,
      "outputs": [
        {
          "output_type": "stream",
          "text": [
            "You are on a deserted in a 2D island.\n",
            "Try to survive until rescue arrives! \n",
            "Available commands are in CAPITAL letters.\n",
            "Any other command exits the program\n",
            "First Look around. . .\n"
          ],
          "name": "stdout"
        }
      ]
    },
    {
      "cell_type": "code",
      "metadata": {
        "id": "qUHB-JtFWEg1",
        "colab_type": "code",
        "colab": {
          "base_uri": "https://localhost:8080/",
          "height": 312
        },
        "outputId": "907a4678-1be1-46ec-bd31-01f8b4524866"
      },
      "source": [
        "do=input(\"::\")\n",
        "if do == \"LOOK\":\n",
        "    print(\"You are stuck in a sand ditch.\")\n",
        "    print(\"Crawl out LEFT or RIGHT.\")\n",
        "\n",
        "\n",
        "\n",
        "    do= input(\":: \")\n",
        "    if do == \"LEFT\":\n",
        "        print(\"You see a STARFISH and a CRAB on the sand.\")\n",
        "        print(\"And you're hungry! Which do you eat?\")\n",
        "\n",
        "\n",
        "\n",
        "        do=input(\":: \")\n",
        "        if do == \"STARFISH\":\n",
        "             print(\"Oh no! You immediately don't feel well.\")\n",
        "             print(\"You do not survive :(\")\n",
        "        elif do ==\"CRAB\":\n",
        "           print(\"Raw crab should be fine, right? YES or NO.\")\n",
        "\n",
        "\n",
        "           do = input(\":: \")  \n",
        "           if do == \"YES\":\n",
        "               print(\"Ok, You eat it raw. Fingers crossed.\")\n",
        "               print(\"Food in your belly helps you see a TREE.\")\n",
        "              \n",
        "               do=input(\":: \")\n",
        "               if do ==\"TREE\":\n",
        "                  print(\"It is a coconut tree! And you are thirsty!\")\n",
        "                  print(\"Do you drink the coconut water? YES or NO.\")\n",
        "               do = input(\":: \")      \n",
        "               if do == \"YES\":\n",
        "                 print(\"Oh boy.Coconut water and raw ceab do not mix.\")\n",
        "                 print(\"You do not survive :(\")\n",
        "               elif do == \"NO\":\n",
        "                print(\"Good choice.\")  \n",
        "                print(\"Look! It is a rescue plane! You made it! \\O/\")\n",
        "               elif do == \"NO\":\n",
        "                print(\"Well, there is nothing else left to  eat.\") \n",
        "                print(\"You do not survive :(\")  \n",
        "\n",
        "    elif do == \"RIGHT\":\n",
        "        print(\"No can do. That side is wery slippery.\")      \n",
        "        print(\"You  fall very far into some weird cavern.\")   \n",
        "        print(\"You do not survive :(\")   \n",
        "\n",
        "else:\n",
        "     print(\"You can only do actions show in capital letters. \")  \n",
        "     print(\"Try again!\")        "
      ],
      "execution_count": 35,
      "outputs": [
        {
          "output_type": "stream",
          "text": [
            "::LOOK\n",
            "You are stuck in a sand ditch.\n",
            "Crawl out LEFT or RIGHT.\n",
            ":: LEFT\n",
            "You see a STARFISH and a CRAB on the sand.\n",
            "And you're hungry! Which do you eat?\n",
            ":: CRAB\n",
            "Raw crab should be fine, right? YES or NO.\n",
            ":: YES\n",
            "Ok, You eat it raw. Fingers crossed.\n",
            "Food in your belly helps you see a TREE.\n",
            ":: TREE\n",
            "It is a coconut tree! And you are thirsty!\n",
            "Do you drink the coconut water? YES or NO.\n",
            ":: YES\n",
            "Oh boy.Coconut water and raw ceab do not mix.\n",
            "You do not survive :(\n"
          ],
          "name": "stdout"
        }
      ]
    },
    {
      "cell_type": "code",
      "metadata": {
        "id": "ZcpWfgU4XsH0",
        "colab_type": "code",
        "colab": {
          "base_uri": "https://localhost:8080/",
          "height": 69
        },
        "outputId": "ec94b2d6-c196-4737-b50e-fa3936aa7f4f"
      },
      "source": [
        "import random\n",
        "\n",
        "\n",
        "my = int(input(\"請出拳[0] 剪刀 [1] 石頭 [2] 布\"))\n",
        "print(\"我出拳\" ,my)\n",
        "\n",
        "computer = random.randint(0,2)\n",
        "print(\"電腦出拳為\", computer)"
      ],
      "execution_count": 36,
      "outputs": [
        {
          "output_type": "stream",
          "text": [
            "請出拳[0] 剪刀 [1] 石頭 [2] 布1\n",
            "我出拳 1\n",
            "電腦出拳為 1\n"
          ],
          "name": "stdout"
        }
      ]
    },
    {
      "cell_type": "code",
      "metadata": {
        "id": "m48Le3bZn2ny",
        "colab_type": "code",
        "colab": {
          "base_uri": "https://localhost:8080/",
          "height": 35
        },
        "outputId": "b48c4fa1-f3ed-4587-bc36-6c89f2a3dcd3"
      },
      "source": [
        "if my == 0:\n",
        "         if computer == 0:\n",
        "             print('平手')\n",
        "         elif computer ==1:\n",
        "             print('電腦獲勝')    \n",
        "         else:\n",
        "             print('玩家獲勝')\n",
        "elif my == 1:             \n",
        "        if computer == 0:\n",
        "            print('玩家獲勝')        \n",
        "        elif computer ==1:\n",
        "             print('平手')  \n",
        "        else:\n",
        "             print('電腦獲勝')       \n",
        "else:\n",
        "        if computer ==1:\n",
        "            print('電腦獲勝') \n",
        "        elif computer ==2:\n",
        "             print('玩家獲勝')    \n",
        "        else:\n",
        "             print('平手')                      "
      ],
      "execution_count": 41,
      "outputs": [
        {
          "output_type": "stream",
          "text": [
            "平手\n"
          ],
          "name": "stdout"
        }
      ]
    },
    {
      "cell_type": "code",
      "metadata": {
        "id": "9WzSq4njqi0A",
        "colab_type": "code",
        "colab": {}
      },
      "source": [
        ""
      ],
      "execution_count": 0,
      "outputs": []
    }
  ]
}