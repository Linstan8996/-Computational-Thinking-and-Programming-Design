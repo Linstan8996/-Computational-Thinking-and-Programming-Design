{
  "nbformat": 4,
  "nbformat_minor": 0,
  "metadata": {
    "colab": {
      "name": "Untitled19.ipynb",
      "provenance": [],
      "include_colab_link": true
    },
    "kernelspec": {
      "name": "python3",
      "display_name": "Python 3"
    }
  },
  "cells": [
    {
      "cell_type": "markdown",
      "metadata": {
        "id": "view-in-github",
        "colab_type": "text"
      },
      "source": [
        "<a href=\"https://colab.research.google.com/github/Linstan8996/-Computational-Thinking-and-Programming-Design/blob/master/Untitled19.ipynb\" target=\"_parent\"><img src=\"https://colab.research.google.com/assets/colab-badge.svg\" alt=\"Open In Colab\"/></a>"
      ]
    },
    {
      "cell_type": "code",
      "metadata": {
        "id": "LfbnO5-RkjnU",
        "colab_type": "code",
        "colab": {
          "base_uri": "https://localhost:8080/",
          "height": 250
        },
        "outputId": "8329abce-f696-47c3-fd88-7eebf8a8467a"
      },
      "source": [
        "#無窮迴圈: while True + break\n",
        "\n",
        "while True:\n",
        "     print(\"Hello\") #運算式\n",
        "     if 條件:\n",
        "          執行動作\n",
        "     else:\n",
        "          break     \n",
        "   "
      ],
      "execution_count": 4,
      "outputs": [
        {
          "output_type": "stream",
          "text": [
            "Hello\n"
          ],
          "name": "stdout"
        },
        {
          "output_type": "error",
          "ename": "NameError",
          "evalue": "ignored",
          "traceback": [
            "\u001b[0;31m---------------------------------------------------------------------------\u001b[0m",
            "\u001b[0;31mNameError\u001b[0m                                 Traceback (most recent call last)",
            "\u001b[0;32m<ipython-input-4-56effa33a01c>\u001b[0m in \u001b[0;36m<module>\u001b[0;34m()\u001b[0m\n\u001b[1;32m      2\u001b[0m \u001b[0;32mwhile\u001b[0m \u001b[0;32mTrue\u001b[0m\u001b[0;34m:\u001b[0m\u001b[0;34m\u001b[0m\u001b[0;34m\u001b[0m\u001b[0m\n\u001b[1;32m      3\u001b[0m      \u001b[0mprint\u001b[0m\u001b[0;34m(\u001b[0m\u001b[0;34m\"Hello\"\u001b[0m\u001b[0;34m)\u001b[0m \u001b[0;31m#運算式\u001b[0m\u001b[0;34m\u001b[0m\u001b[0;34m\u001b[0m\u001b[0m\n\u001b[0;32m----> 4\u001b[0;31m      \u001b[0;32mif\u001b[0m \u001b[0m條件\u001b[0m\u001b[0;34m:\u001b[0m\u001b[0;34m\u001b[0m\u001b[0;34m\u001b[0m\u001b[0m\n\u001b[0m\u001b[1;32m      5\u001b[0m           \u001b[0m執行動作\u001b[0m\u001b[0;34m\u001b[0m\u001b[0;34m\u001b[0m\u001b[0m\n\u001b[1;32m      6\u001b[0m      \u001b[0;32melse\u001b[0m\u001b[0;34m:\u001b[0m\u001b[0;34m\u001b[0m\u001b[0;34m\u001b[0m\u001b[0m\n",
            "\u001b[0;31mNameError\u001b[0m: name '條件' is not defined"
          ]
        }
      ]
    },
    {
      "cell_type": "code",
      "metadata": {
        "id": "JacN4Xx9oXYX",
        "colab_type": "code",
        "colab": {
          "base_uri": "https://localhost:8080/",
          "height": 51
        },
        "outputId": "d772eb4f-dbeb-4fb6-a06a-a44e5b1a0f6c"
      },
      "source": [
        "answer = \"123\"\n",
        "while True:\n",
        "    password = input(\"Enter Your Password: \")\n",
        "    if password == answer:\n",
        "        print(\"Correct\")\n",
        "        break\n",
        "    else:\n",
        "         print(\"Fail, Try Again\")    "
      ],
      "execution_count": 6,
      "outputs": [
        {
          "output_type": "stream",
          "text": [
            "Enter Your Password: 123\n",
            "Correct\n"
          ],
          "name": "stdout"
        }
      ]
    },
    {
      "cell_type": "code",
      "metadata": {
        "id": "6iDoZ2ZIpS_C",
        "colab_type": "code",
        "colab": {
          "base_uri": "https://localhost:8080/",
          "height": 68
        },
        "outputId": "89405b68-5024-4bb9-b315-394ca9ef5c59"
      },
      "source": [
        "\n",
        "while True:\n",
        "    帳號 = input(\"輸入你的帳號: \")\n",
        "    密碼 = input(\"輸入你的密碼: \")\n",
        "    if (帳號 == 'abc' and 密碼 == '123'):\n",
        "       print(\"correct\")  \n",
        "       break\n",
        "    else:\n",
        "       print(\"fall,try again\")   \n",
        "      "
      ],
      "execution_count": 14,
      "outputs": [
        {
          "output_type": "stream",
          "text": [
            "輸入你的帳號: abc\n",
            "輸入你的密碼: 123\n",
            "correct\n"
          ],
          "name": "stdout"
        }
      ]
    },
    {
      "cell_type": "code",
      "metadata": {
        "id": "19G3xyLlrOva",
        "colab_type": "code",
        "colab": {
          "base_uri": "https://localhost:8080/",
          "height": 51
        },
        "outputId": "93da6b2a-2073-4ca0-821e-3bf690eadf93"
      },
      "source": [
        " password =\"123\" \n",
        " times = 0\n",
        "\n",
        "while times <= 3:\n",
        "   answer = input(\"enter your password: \")\n",
        "   if answer == password:\n",
        "        print(\"登入成功\")\n",
        "        break\n",
        "   else:\n",
        "        times = times + 1\n",
        "        chance = 3 - times\n",
        "        print(\"密碼錯誤!還有\", chance,\"次機會\")\n",
        "\n",
        "   "
      ],
      "execution_count": 15,
      "outputs": [
        {
          "output_type": "stream",
          "text": [
            "enter your password: 123\n",
            "登入成功\n"
          ],
          "name": "stdout"
        }
      ]
    },
    {
      "cell_type": "code",
      "metadata": {
        "id": "zWTg99dxwbtY",
        "colab_type": "code",
        "colab": {
          "base_uri": "https://localhost:8080/",
          "height": 34
        },
        "outputId": "9d635f57-81dc-4729-bdc7-094d7291402f"
      },
      "source": [
        "for a in range(6):\n",
        "     print(a, end = \" \")\n"
      ],
      "execution_count": 16,
      "outputs": [
        {
          "output_type": "stream",
          "text": [
            "0 1 2 3 4 5 "
          ],
          "name": "stdout"
        }
      ]
    },
    {
      "cell_type": "code",
      "metadata": {
        "id": "1sCjXLxV2dSv",
        "colab_type": "code",
        "colab": {
          "base_uri": "https://localhost:8080/",
          "height": 34
        },
        "outputId": "e86dd4d6-7cc5-4be9-d065-311648ac9d90"
      },
      "source": [
        "for b in range(1 , 6 , 2):\n",
        "     print(b, end = \" \")"
      ],
      "execution_count": 17,
      "outputs": [
        {
          "output_type": "stream",
          "text": [
            "1 3 5 "
          ],
          "name": "stdout"
        }
      ]
    },
    {
      "cell_type": "code",
      "metadata": {
        "id": "4ae4QSrg2xND",
        "colab_type": "code",
        "colab": {
          "base_uri": "https://localhost:8080/",
          "height": 34
        },
        "outputId": "b670ffa7-9e92-4738-ce40-4f481484bf93"
      },
      "source": [
        "sum = 0\n",
        "\n",
        "for x in range(1 , 10 , 2):\n",
        "      sum = sum +x\n",
        "print(\"1+3+5+7+9=\"  ,sum )\n"
      ],
      "execution_count": 24,
      "outputs": [
        {
          "output_type": "stream",
          "text": [
            "1+3+5+7+9= 25\n"
          ],
          "name": "stdout"
        }
      ]
    },
    {
      "cell_type": "code",
      "metadata": {
        "id": "NUCtODFq3k0d",
        "colab_type": "code",
        "colab": {}
      },
      "source": [
        "\n",
        "\n"
      ],
      "execution_count": 0,
      "outputs": []
    },
    {
      "cell_type": "code",
      "metadata": {
        "id": "qhPQ82Um4Ob-",
        "colab_type": "code",
        "colab": {}
      },
      "source": [
        ""
      ],
      "execution_count": 0,
      "outputs": []
    }
  ]
}