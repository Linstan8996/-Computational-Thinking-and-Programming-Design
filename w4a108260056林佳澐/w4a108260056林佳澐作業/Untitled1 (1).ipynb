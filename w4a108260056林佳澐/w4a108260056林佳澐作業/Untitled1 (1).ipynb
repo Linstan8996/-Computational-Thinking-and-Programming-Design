{
  "nbformat": 4,
  "nbformat_minor": 0,
  "metadata": {
    "colab": {
      "name": "Untitled1.ipynb",
      "provenance": []
    },
    "kernelspec": {
      "name": "python3",
      "display_name": "Python 3"
    }
  },
  "cells": [
    {
      "cell_type": "code",
      "metadata": {
        "id": "av84QyRLaXgS",
        "colab_type": "code",
        "colab": {
          "base_uri": "https://localhost:8080/",
          "height": 35
        },
        "outputId": "fa4ecbf9-ce42-4da3-c6f1-08abb9e31901"
      },
      "source": [
        "print(bool(1))"
      ],
      "execution_count": 2,
      "outputs": [
        {
          "output_type": "stream",
          "text": [
            "True\n"
          ],
          "name": "stdout"
        }
      ]
    },
    {
      "cell_type": "code",
      "metadata": {
        "id": "Ov8OVSLCca_x",
        "colab_type": "code",
        "colab": {
          "base_uri": "https://localhost:8080/",
          "height": 35
        },
        "outputId": "d17d8b57-67ad-488b-d067-5a232fd65f3e"
      },
      "source": [
        "print(bool(0))"
      ],
      "execution_count": 3,
      "outputs": [
        {
          "output_type": "stream",
          "text": [
            "False\n"
          ],
          "name": "stdout"
        }
      ]
    },
    {
      "cell_type": "code",
      "metadata": {
        "id": "fxa4IOJadV1M",
        "colab_type": "code",
        "colab": {
          "base_uri": "https://localhost:8080/",
          "height": 35
        },
        "outputId": "24826377-9e9e-4c10-ceb1-9df3ea33c00b"
      },
      "source": [
        "print(bool(()))"
      ],
      "execution_count": 4,
      "outputs": [
        {
          "output_type": "stream",
          "text": [
            "False\n"
          ],
          "name": "stdout"
        }
      ]
    },
    {
      "cell_type": "code",
      "metadata": {
        "id": "MVSBrrVQdgsv",
        "colab_type": "code",
        "colab": {
          "base_uri": "https://localhost:8080/",
          "height": 35
        },
        "outputId": "4d1aaa51-2aad-48bd-edf8-d29e35ff1ba4"
      },
      "source": [
        "print(int(100))"
      ],
      "execution_count": 5,
      "outputs": [
        {
          "output_type": "stream",
          "text": [
            "100\n"
          ],
          "name": "stdout"
        }
      ]
    },
    {
      "cell_type": "code",
      "metadata": {
        "id": "eO8gldXydqOQ",
        "colab_type": "code",
        "colab": {
          "base_uri": "https://localhost:8080/",
          "height": 35
        },
        "outputId": "652bf016-1196-4ca7-fec0-f239eadccd3c"
      },
      "source": [
        "print(int(3.14))"
      ],
      "execution_count": 6,
      "outputs": [
        {
          "output_type": "stream",
          "text": [
            "3\n"
          ],
          "name": "stdout"
        }
      ]
    },
    {
      "cell_type": "code",
      "metadata": {
        "id": "Y0PIDv7KdwPT",
        "colab_type": "code",
        "colab": {
          "base_uri": "https://localhost:8080/",
          "height": 35
        },
        "outputId": "68341a17-71e2-4127-eb7f-5737934ae637"
      },
      "source": [
        "print(int(\"100\",2))"
      ],
      "execution_count": 7,
      "outputs": [
        {
          "output_type": "stream",
          "text": [
            "4\n"
          ],
          "name": "stdout"
        }
      ]
    },
    {
      "cell_type": "code",
      "metadata": {
        "id": "UGbGWvPyeG3i",
        "colab_type": "code",
        "colab": {
          "base_uri": "https://localhost:8080/",
          "height": 35
        },
        "outputId": "92a3140c-26e2-4dad-fba4-4ebad2f63d37"
      },
      "source": [
        "print(float(1))"
      ],
      "execution_count": 9,
      "outputs": [
        {
          "output_type": "stream",
          "text": [
            "1.0\n"
          ],
          "name": "stdout"
        }
      ]
    },
    {
      "cell_type": "code",
      "metadata": {
        "id": "-xANP2s1ePLj",
        "colab_type": "code",
        "colab": {
          "base_uri": "https://localhost:8080/",
          "height": 35
        },
        "outputId": "e17ed5b8-94ba-49d6-b9f9-6805ea82a99e"
      },
      "source": [
        "print(float(3.14))"
      ],
      "execution_count": 10,
      "outputs": [
        {
          "output_type": "stream",
          "text": [
            "3.14\n"
          ],
          "name": "stdout"
        }
      ]
    },
    {
      "cell_type": "code",
      "metadata": {
        "id": "bfjyzHkueZKA",
        "colab_type": "code",
        "colab": {
          "base_uri": "https://localhost:8080/",
          "height": 35
        },
        "outputId": "47c26739-aac7-4b8e-a2fa-190b18b6e73a"
      },
      "source": [
        "print(float(\"3.1415\"))"
      ],
      "execution_count": 11,
      "outputs": [
        {
          "output_type": "stream",
          "text": [
            "3.1415\n"
          ],
          "name": "stdout"
        }
      ]
    },
    {
      "cell_type": "code",
      "metadata": {
        "id": "8RtZNSkaeh_i",
        "colab_type": "code",
        "colab": {}
      },
      "source": [
        "b=True"
      ],
      "execution_count": 0,
      "outputs": []
    },
    {
      "cell_type": "code",
      "metadata": {
        "id": "J8LApM9IeyyI",
        "colab_type": "code",
        "colab": {
          "base_uri": "https://localhost:8080/",
          "height": 35
        },
        "outputId": "67f0f33d-aeab-4ef7-a06b-9ad897e94467"
      },
      "source": [
        "print(b,type(b))"
      ],
      "execution_count": 15,
      "outputs": [
        {
          "output_type": "stream",
          "text": [
            "True <class 'bool'>\n"
          ],
          "name": "stdout"
        }
      ]
    },
    {
      "cell_type": "code",
      "metadata": {
        "id": "yE5Qb3k-fWhw",
        "colab_type": "code",
        "colab": {}
      },
      "source": [
        "num=20\n"
      ],
      "execution_count": 0,
      "outputs": []
    },
    {
      "cell_type": "code",
      "metadata": {
        "id": "B0ZFn0ukff-b",
        "colab_type": "code",
        "colab": {
          "base_uri": "https://localhost:8080/",
          "height": 35
        },
        "outputId": "6e9cd337-5b29-4187-889f-ee801dec72f6"
      },
      "source": [
        "print(num,type(num))"
      ],
      "execution_count": 17,
      "outputs": [
        {
          "output_type": "stream",
          "text": [
            "20 <class 'int'>\n"
          ],
          "name": "stdout"
        }
      ]
    },
    {
      "cell_type": "code",
      "metadata": {
        "id": "E4AonzXWfopa",
        "colab_type": "code",
        "colab": {}
      },
      "source": [
        "pi=3.14"
      ],
      "execution_count": 0,
      "outputs": []
    },
    {
      "cell_type": "code",
      "metadata": {
        "id": "TvKIqCsyfr-W",
        "colab_type": "code",
        "colab": {
          "base_uri": "https://localhost:8080/",
          "height": 35
        },
        "outputId": "faba8d25-b477-4cbc-b1bf-176d2a4c1c28"
      },
      "source": [
        "print(pi,type(pi))"
      ],
      "execution_count": 19,
      "outputs": [
        {
          "output_type": "stream",
          "text": [
            "3.14 <class 'float'>\n"
          ],
          "name": "stdout"
        }
      ]
    },
    {
      "cell_type": "code",
      "metadata": {
        "id": "hsm2Yg3HfyXo",
        "colab_type": "code",
        "colab": {}
      },
      "source": [
        "s=\"Hello\""
      ],
      "execution_count": 0,
      "outputs": []
    },
    {
      "cell_type": "code",
      "metadata": {
        "id": "7oydAFlIf3zR",
        "colab_type": "code",
        "colab": {
          "base_uri": "https://localhost:8080/",
          "height": 35
        },
        "outputId": "d842f95e-82df-4b9c-f21c-b384918963ec"
      },
      "source": [
        "print(s,type(s))"
      ],
      "execution_count": 21,
      "outputs": [
        {
          "output_type": "stream",
          "text": [
            "Hello <class 'str'>\n"
          ],
          "name": "stdout"
        }
      ]
    },
    {
      "cell_type": "code",
      "metadata": {
        "id": "NCywp3xqgMI3",
        "colab_type": "code",
        "colab": {}
      },
      "source": [
        "a=1"
      ],
      "execution_count": 0,
      "outputs": []
    },
    {
      "cell_type": "code",
      "metadata": {
        "id": "DXb3bARZgPBW",
        "colab_type": "code",
        "colab": {
          "base_uri": "https://localhost:8080/",
          "height": 35
        },
        "outputId": "d0923b17-f443-4890-de05-d214ae310a73"
      },
      "source": [
        "print(a,id(a))"
      ],
      "execution_count": 31,
      "outputs": [
        {
          "output_type": "stream",
          "text": [
            "1 10968800\n"
          ],
          "name": "stdout"
        }
      ]
    },
    {
      "cell_type": "code",
      "metadata": {
        "id": "tA3AQrPWgT3E",
        "colab_type": "code",
        "colab": {}
      },
      "source": [
        "a=\"Python\""
      ],
      "execution_count": 0,
      "outputs": []
    },
    {
      "cell_type": "code",
      "metadata": {
        "id": "JQPE8ihOgga2",
        "colab_type": "code",
        "colab": {
          "base_uri": "https://localhost:8080/",
          "height": 35
        },
        "outputId": "4e75a2e7-67ae-403c-bea6-02b92fd47e3a"
      },
      "source": [
        "\n",
        "print(a,id(a))"
      ],
      "execution_count": 33,
      "outputs": [
        {
          "output_type": "stream",
          "text": [
            "Python 139931998252088\n"
          ],
          "name": "stdout"
        }
      ]
    },
    {
      "cell_type": "code",
      "metadata": {
        "id": "mpezUuI5gm5B",
        "colab_type": "code",
        "colab": {}
      },
      "source": [
        "x=1"
      ],
      "execution_count": 0,
      "outputs": []
    },
    {
      "cell_type": "code",
      "metadata": {
        "id": "lEVzreN7gq87",
        "colab_type": "code",
        "colab": {}
      },
      "source": [
        "y=x"
      ],
      "execution_count": 0,
      "outputs": []
    },
    {
      "cell_type": "code",
      "metadata": {
        "id": "DOulsTHlgsj-",
        "colab_type": "code",
        "colab": {
          "base_uri": "https://localhost:8080/",
          "height": 35
        },
        "outputId": "894e12e2-2e62-47af-aafd-f742f368d4b8"
      },
      "source": [
        "print(id(x),id(y))"
      ],
      "execution_count": 29,
      "outputs": [
        {
          "output_type": "stream",
          "text": [
            "10968800 10968800\n"
          ],
          "name": "stdout"
        }
      ]
    },
    {
      "cell_type": "code",
      "metadata": {
        "id": "cPmWNkwbg03J",
        "colab_type": "code",
        "colab": {
          "base_uri": "https://localhost:8080/",
          "height": 35
        },
        "outputId": "92007205-8037-4c74-ae2a-1e03a77402f2"
      },
      "source": [
        "print(x,y)"
      ],
      "execution_count": 34,
      "outputs": [
        {
          "output_type": "stream",
          "text": [
            "1 1\n"
          ],
          "name": "stdout"
        }
      ]
    },
    {
      "cell_type": "code",
      "metadata": {
        "id": "EioQkRWNirc_",
        "colab_type": "code",
        "colab": {
          "base_uri": "https://localhost:8080/",
          "height": 35
        },
        "outputId": "724622a6-5ba8-4730-8657-d1f117d9d0c7"
      },
      "source": [
        "x=1\n",
        "y=[1,2,3]\n",
        "print(x in y)"
      ],
      "execution_count": 36,
      "outputs": [
        {
          "output_type": "stream",
          "text": [
            "True\n"
          ],
          "name": "stdout"
        }
      ]
    },
    {
      "cell_type": "code",
      "metadata": {
        "id": "QFnNrTOBjXLz",
        "colab_type": "code",
        "colab": {
          "base_uri": "https://localhost:8080/",
          "height": 35
        },
        "outputId": "8cc2beeb-65a1-419f-bcc4-f44de044d287"
      },
      "source": [
        "x=1\n",
        "y=[1,2,3]\n",
        "print(x not in y)"
      ],
      "execution_count": 37,
      "outputs": [
        {
          "output_type": "stream",
          "text": [
            "False\n"
          ],
          "name": "stdout"
        }
      ]
    },
    {
      "cell_type": "code",
      "metadata": {
        "id": "N1jzeyRGjkDT",
        "colab_type": "code",
        "colab": {
          "base_uri": "https://localhost:8080/",
          "height": 35
        },
        "outputId": "1958ed07-7bdd-4155-a0b0-586c27ef6f16"
      },
      "source": [
        "x=[1,2,3]\n",
        "y=[1,2,3]\n",
        "print(x is y)"
      ],
      "execution_count": 40,
      "outputs": [
        {
          "output_type": "stream",
          "text": [
            "False\n"
          ],
          "name": "stdout"
        }
      ]
    },
    {
      "cell_type": "code",
      "metadata": {
        "id": "cuF-pWsLjosA",
        "colab_type": "code",
        "colab": {
          "base_uri": "https://localhost:8080/",
          "height": 35
        },
        "outputId": "b0358d55-0af8-4016-a283-3c73431b5c9d"
      },
      "source": [
        "x=[1,2,3]\n",
        "y=[1,2,3]\n",
        "print(x is not y)"
      ],
      "execution_count": 41,
      "outputs": [
        {
          "output_type": "stream",
          "text": [
            "True\n"
          ],
          "name": "stdout"
        }
      ]
    },
    {
      "cell_type": "code",
      "metadata": {
        "id": "rezX2HQkkFEt",
        "colab_type": "code",
        "colab": {
          "base_uri": "https://localhost:8080/",
          "height": 69
        },
        "outputId": "c7348945-c325-41b0-c944-497695d10d6f"
      },
      "source": [
        "x=[1,2,3]\n",
        "y=[1,2,3]\n",
        "print(id(x),id(y))\n",
        "print(x is y)\n",
        "print(x == y)"
      ],
      "execution_count": 42,
      "outputs": [
        {
          "output_type": "stream",
          "text": [
            "139931445229960 139931445228808\n",
            "False\n",
            "True\n"
          ],
          "name": "stdout"
        }
      ]
    },
    {
      "cell_type": "code",
      "metadata": {
        "id": "y3A8KRuYk7zQ",
        "colab_type": "code",
        "colab": {
          "base_uri": "https://localhost:8080/",
          "height": 35
        },
        "outputId": "fd9d0e2c-d11f-4ac1-8f41-7bbc2e15a23b"
      },
      "source": [
        "s1=\"01234\"\n",
        "s2=\"56789\"\n",
        "s3=s1+s2\n",
        "print(s3)"
      ],
      "execution_count": 43,
      "outputs": [
        {
          "output_type": "stream",
          "text": [
            "0123456789\n"
          ],
          "name": "stdout"
        }
      ]
    },
    {
      "cell_type": "code",
      "metadata": {
        "id": "sZc_DQ2blUtB",
        "colab_type": "code",
        "colab": {
          "base_uri": "https://localhost:8080/",
          "height": 35
        },
        "outputId": "7824fd4e-86df-4411-a97d-f55ae7cff985"
      },
      "source": [
        "s1=\"01234\"\n",
        "s2=s1 * 2\n",
        "print(s2)"
      ],
      "execution_count": 44,
      "outputs": [
        {
          "output_type": "stream",
          "text": [
            "0123401234\n"
          ],
          "name": "stdout"
        }
      ]
    },
    {
      "cell_type": "code",
      "metadata": {
        "id": "lD2LvK8Ploal",
        "colab_type": "code",
        "colab": {
          "base_uri": "https://localhost:8080/",
          "height": 87
        },
        "outputId": "b968f164-f9fd-4c89-9539-116450c5a590"
      },
      "source": [
        "s1='0123456789'\n",
        "print(s1[0])\n",
        "print(s1[1])\n",
        "print(s1[-1])\n",
        "print(s1[-2])"
      ],
      "execution_count": 45,
      "outputs": [
        {
          "output_type": "stream",
          "text": [
            "0\n",
            "1\n",
            "9\n",
            "8\n"
          ],
          "name": "stdout"
        }
      ]
    },
    {
      "cell_type": "code",
      "metadata": {
        "id": "TT1tWT5moM_Y",
        "colab_type": "code",
        "colab": {
          "base_uri": "https://localhost:8080/",
          "height": 208
        },
        "outputId": "7c797cbc-4609-45bf-9688-4166ef96a17b"
      },
      "source": [
        "s='0123456789'\n",
        "print('s=',s,'s[:]=',s[:])\n",
        "print('s=',s,'s[5:]=',s[5:])\n",
        "print('s=',s,'s[-2:]=',s[-2:])\n",
        "print('s=',s,'s[:5]=',s[:5])\n",
        "print('s=',s,'s[:-2]=',s[-2:])\n",
        "print('s=',s,'s[7;9]=',s[7:9])\n",
        "print('s=',s,'s[-4:-1]=',s[-4:-1])\n",
        "print('s=',s,'s[5:-2]=',s[5:-2])\n",
        "print('s=',s,'s[2:10:2]=',s[2:10:2])\n",
        "print('s=',s,'s[::-1])=',s[::-1])\n",
        "print('s=',s,'s[-1::-1]=',s[-1::-1])"
      ],
      "execution_count": 46,
      "outputs": [
        {
          "output_type": "stream",
          "text": [
            "s= 0123456789 s[:]= 0123456789\n",
            "s= 0123456789 s[5:]= 56789\n",
            "s= 0123456789 s[-2:]= 89\n",
            "s= 0123456789 s[:5]= 01234\n",
            "s= 0123456789 s[:-2]= 89\n",
            "s= 0123456789 s[7;9]= 78\n",
            "s= 0123456789 s[-4:-1]= 678\n",
            "s= 0123456789 s[5:-2]= 567\n",
            "s= 0123456789 s[2:10:2]= 2468\n",
            "s= 0123456789 s[::-1])= 9876543210\n",
            "s= 0123456789 s[-1::-1]= 9876543210\n"
          ],
          "name": "stdout"
        }
      ]
    },
    {
      "cell_type": "code",
      "metadata": {
        "id": "qO1SwYCHvd9n",
        "colab_type": "code",
        "colab": {
          "base_uri": "https://localhost:8080/",
          "height": 52
        },
        "outputId": "bcd7a32e-7c58-49a8-895a-4da257f699ca"
      },
      "source": [
        "s='春眠不覺曉，處處聞啼鳥。\\n\\夜來風雨聲，花落知多少。\\\\\\t作者\"孟浩然\"詩名\"春曉\"'\n",
        "print(s)"
      ],
      "execution_count": 47,
      "outputs": [
        {
          "output_type": "stream",
          "text": [
            "春眠不覺曉，處處聞啼鳥。\n",
            "\\夜來風雨聲，花落知多少。\\\t作者\"孟浩然\"詩名\"春曉\"\n"
          ],
          "name": "stdout"
        }
      ]
    },
    {
      "cell_type": "code",
      "metadata": {
        "id": "q6unTEJswnSz",
        "colab_type": "code",
        "colab": {}
      },
      "source": [
        "s1='春眠不覺曉，處處聞啼鳥，夜來風雨聲，花落知多少。'\n",
        "list1=s1.split('，')"
      ],
      "execution_count": 0,
      "outputs": []
    },
    {
      "cell_type": "code",
      "metadata": {
        "id": "ukm0S1r6xGaD",
        "colab_type": "code",
        "colab": {
          "base_uri": "https://localhost:8080/",
          "height": 131
        },
        "outputId": "fb070e03-5e6d-4bd7-c8f4-06b9916db32c"
      },
      "source": [
        "list1=['春眠不覺曉'，' 處處聞啼鳥'，'' 夜來風雨聲 '，'花落知多少。']\n",
        "s2='，'.join(list1)\n",
        "print(s2)"
      ],
      "execution_count": 55,
      "outputs": [
        {
          "output_type": "error",
          "ename": "SyntaxError",
          "evalue": "ignored",
          "traceback": [
            "\u001b[0;36m  File \u001b[0;32m\"<ipython-input-55-c5d8f8b4aba3>\"\u001b[0;36m, line \u001b[0;32m1\u001b[0m\n\u001b[0;31m    list1=['春眠不覺曉'，' 處處聞啼鳥'，'' 夜來風雨聲 '，'花落知多少。']\u001b[0m\n\u001b[0m                  ^\u001b[0m\n\u001b[0;31mSyntaxError\u001b[0m\u001b[0;31m:\u001b[0m invalid character in identifier\n"
          ]
        }
      ]
    },
    {
      "cell_type": "code",
      "metadata": {
        "id": "jItgzm6ryaNZ",
        "colab_type": "code",
        "colab": {
          "base_uri": "https://localhost:8080/",
          "height": 35
        },
        "outputId": "7315cce2-fa61-416e-d7e2-b28f795399d4"
      },
      "source": [
        "s1='春眠不覺曉 ，處處聞啼鳥 ，夜來風雨聲 ，花落知多少。'\n",
        "s3=s1.replace('春','冬')\n",
        "print(s3)"
      ],
      "execution_count": 1,
      "outputs": [
        {
          "output_type": "stream",
          "text": [
            "冬眠不覺曉 ，處處聞啼鳥 ，夜來風雨聲 ，花落知多少。\n"
          ],
          "name": "stdout"
        }
      ]
    },
    {
      "cell_type": "code",
      "metadata": {
        "id": "RNm8QxhAxwgw",
        "colab_type": "code",
        "colab": {
          "base_uri": "https://localhost:8080/",
          "height": 35
        },
        "outputId": "fd77b7dc-c33f-430c-aa16-846438071740"
      },
      "source": [
        "s1='春眠不覺曉， 處處聞啼鳥 ，夜來風雨聲 ，花落知多少。'\n",
        "print(s1.find('花落'))"
      ],
      "execution_count": 2,
      "outputs": [
        {
          "output_type": "stream",
          "text": [
            "21\n"
          ],
          "name": "stdout"
        }
      ]
    },
    {
      "cell_type": "code",
      "metadata": {
        "id": "rEh-J4XyyLns",
        "colab_type": "code",
        "colab": {
          "base_uri": "https://localhost:8080/",
          "height": 35
        },
        "outputId": "a0a556da-1fd5-4c73-9169-f09ac37c1e1b"
      },
      "source": [
        "s1='春眠不覺曉 ，處處聞啼鳥， 夜來風雨聲， 花落知多少。'\n",
        "s1.rfind('處')"
      ],
      "execution_count": 4,
      "outputs": [
        {
          "output_type": "execute_result",
          "data": {
            "text/plain": [
              "8"
            ]
          },
          "metadata": {
            "tags": []
          },
          "execution_count": 4
        }
      ]
    },
    {
      "cell_type": "code",
      "metadata": {
        "id": "apiicCuby1sW",
        "colab_type": "code",
        "colab": {
          "base_uri": "https://localhost:8080/",
          "height": 35
        },
        "outputId": "13199ca1-7a9b-48c4-d055-d3ac055cc157"
      },
      "source": [
        "s1='春眠不覺曉 ，處處聞啼鳥， 夜來風雨聲， 花落知多少。'\n",
        "print(s1.startswith('春眠'))"
      ],
      "execution_count": 5,
      "outputs": [
        {
          "output_type": "stream",
          "text": [
            "True\n"
          ],
          "name": "stdout"
        }
      ]
    },
    {
      "cell_type": "code",
      "metadata": {
        "id": "cS7LVDS6zQ9I",
        "colab_type": "code",
        "colab": {
          "base_uri": "https://localhost:8080/",
          "height": 35
        },
        "outputId": "cef38a9e-9b3c-4c29-cf79-15afd10abd4d"
      },
      "source": [
        "s1='春眠不覺曉 ，處處聞啼鳥， 夜來風雨聲， 花落知多少。'\n",
        "print(s1.endswith('多少。'))"
      ],
      "execution_count": 7,
      "outputs": [
        {
          "output_type": "stream",
          "text": [
            "True\n"
          ],
          "name": "stdout"
        }
      ]
    },
    {
      "cell_type": "code",
      "metadata": {
        "id": "u_F6ka0Czpee",
        "colab_type": "code",
        "colab": {
          "base_uri": "https://localhost:8080/",
          "height": 35
        },
        "outputId": "ff579a99-1add-4ebd-c973-3f2c357f94c6"
      },
      "source": [
        "s1='春眠不覺曉 ，處處聞啼鳥， 夜來風雨聲， 花落知多少。'\n",
        "print(s1.count('處'))"
      ],
      "execution_count": 8,
      "outputs": [
        {
          "output_type": "stream",
          "text": [
            "2\n"
          ],
          "name": "stdout"
        }
      ]
    },
    {
      "cell_type": "code",
      "metadata": {
        "id": "CtkRzEzU0tmr",
        "colab_type": "code",
        "colab": {
          "base_uri": "https://localhost:8080/",
          "height": 35
        },
        "outputId": "168efb42-5dcc-4773-a608-5113aa2ed894"
      },
      "source": [
        "s1='春眠不覺曉'\n",
        "print(s1.center(10))"
      ],
      "execution_count": 9,
      "outputs": [
        {
          "output_type": "stream",
          "text": [
            "  春眠不覺曉   \n"
          ],
          "name": "stdout"
        }
      ]
    },
    {
      "cell_type": "code",
      "metadata": {
        "id": "R6FEJ-gj06rV",
        "colab_type": "code",
        "colab": {
          "base_uri": "https://localhost:8080/",
          "height": 35
        },
        "outputId": "a67f8f44-f682-4f42-8144-cf1b26334115"
      },
      "source": [
        "s1='春眠不覺曉'\n",
        "print(s1.rjust(10))"
      ],
      "execution_count": 10,
      "outputs": [
        {
          "output_type": "stream",
          "text": [
            "     春眠不覺曉\n"
          ],
          "name": "stdout"
        }
      ]
    },
    {
      "cell_type": "code",
      "metadata": {
        "id": "X8uYsszh1JwI",
        "colab_type": "code",
        "colab": {
          "base_uri": "https://localhost:8080/",
          "height": 35
        },
        "outputId": "f7363ac4-dcaf-4b0d-8e87-3d461482973a"
      },
      "source": [
        "s1='春眠不覺曉'\n",
        "print(s1.ljust(10))"
      ],
      "execution_count": 11,
      "outputs": [
        {
          "output_type": "stream",
          "text": [
            "春眠不覺曉     \n"
          ],
          "name": "stdout"
        }
      ]
    },
    {
      "cell_type": "code",
      "metadata": {
        "id": "UxEqqTeN1Y87",
        "colab_type": "code",
        "colab": {
          "base_uri": "https://localhost:8080/",
          "height": 35
        },
        "outputId": "721fa161-33fc-4cc9-c6d6-bac845ffd056"
      },
      "source": [
        "s1='an apple a day'\n",
        "print(s1.title())"
      ],
      "execution_count": 12,
      "outputs": [
        {
          "output_type": "stream",
          "text": [
            "An Apple A Day\n"
          ],
          "name": "stdout"
        }
      ]
    },
    {
      "cell_type": "code",
      "metadata": {
        "id": "8b8Bcn9p1lWN",
        "colab_type": "code",
        "colab": {
          "base_uri": "https://localhost:8080/",
          "height": 35
        },
        "outputId": "e391acea-8026-4cc5-86b6-816694db0cf4"
      },
      "source": [
        "s1='An apple a day'\n",
        "print(s1.title())"
      ],
      "execution_count": 13,
      "outputs": [
        {
          "output_type": "stream",
          "text": [
            "An Apple A Day\n"
          ],
          "name": "stdout"
        }
      ]
    },
    {
      "cell_type": "code",
      "metadata": {
        "id": "Hh_eDjcD1w2P",
        "colab_type": "code",
        "colab": {
          "base_uri": "https://localhost:8080/",
          "height": 35
        },
        "outputId": "fdcb442b-0056-4bac-b04d-d0092b78d28c"
      },
      "source": [
        "\n",
        "s1='An apple a day'\n",
        "print(s1.swapcase())"
      ],
      "execution_count": 14,
      "outputs": [
        {
          "output_type": "stream",
          "text": [
            "aN APPLE A DAY\n"
          ],
          "name": "stdout"
        }
      ]
    },
    {
      "cell_type": "code",
      "metadata": {
        "id": "BU-g8I0u19vA",
        "colab_type": "code",
        "colab": {
          "base_uri": "https://localhost:8080/",
          "height": 35
        },
        "outputId": "504f9a54-b932-4629-d0a0-356be6fefe84"
      },
      "source": [
        "s1='An apple a day'\n",
        "print(s1.upper())"
      ],
      "execution_count": 15,
      "outputs": [
        {
          "output_type": "stream",
          "text": [
            "AN APPLE A DAY\n"
          ],
          "name": "stdout"
        }
      ]
    },
    {
      "cell_type": "code",
      "metadata": {
        "id": "6IkWhVjq2J5U",
        "colab_type": "code",
        "colab": {
          "base_uri": "https://localhost:8080/",
          "height": 35
        },
        "outputId": "af4097d1-bc13-4ebb-b5cd-9b90fcd1fa60"
      },
      "source": [
        "s1='An apple a day'\n",
        "print(s1.lower())"
      ],
      "execution_count": 16,
      "outputs": [
        {
          "output_type": "stream",
          "text": [
            "an apple a day\n"
          ],
          "name": "stdout"
        }
      ]
    },
    {
      "cell_type": "code",
      "metadata": {
        "id": "KmqB3pNb2UoE",
        "colab_type": "code",
        "colab": {
          "base_uri": "https://localhost:8080/",
          "height": 35
        },
        "outputId": "b0a680c3-8d06-4e29-eb7b-a16b10810a2d"
      },
      "source": [
        "s1='123'\n",
        "print(s1.zfill(5))"
      ],
      "execution_count": 17,
      "outputs": [
        {
          "output_type": "stream",
          "text": [
            "00123\n"
          ],
          "name": "stdout"
        }
      ]
    },
    {
      "cell_type": "code",
      "metadata": {
        "id": "pJJJftmC2dGz",
        "colab_type": "code",
        "colab": {
          "base_uri": "https://localhost:8080/",
          "height": 35
        },
        "outputId": "218d4d89-6206-4d71-dfc3-23d22fa55ebd"
      },
      "source": [
        "s1='Hello,Mary.'\n",
        "print(s1.strip())"
      ],
      "execution_count": 18,
      "outputs": [
        {
          "output_type": "stream",
          "text": [
            "Hello,Mary.\n"
          ],
          "name": "stdout"
        }
      ]
    },
    {
      "cell_type": "code",
      "metadata": {
        "id": "qI_QtH-d2tle",
        "colab_type": "code",
        "colab": {
          "base_uri": "https://localhost:8080/",
          "height": 35
        },
        "outputId": "1ad56db7-98e6-427f-c9fe-008a03d57102"
      },
      "source": [
        "s1='Hello,Marry.'\n",
        "print(s1.lstrip('H'))"
      ],
      "execution_count": 19,
      "outputs": [
        {
          "output_type": "stream",
          "text": [
            "ello,Marry.\n"
          ],
          "name": "stdout"
        }
      ]
    },
    {
      "cell_type": "code",
      "metadata": {
        "id": "9rMihtSw298w",
        "colab_type": "code",
        "colab": {
          "base_uri": "https://localhost:8080/",
          "height": 35
        },
        "outputId": "499ce8e0-1b88-43f6-e00d-46a40b01504d"
      },
      "source": [
        "S1='Hello,Marry'\n",
        "print(s1.rstrip('.'))"
      ],
      "execution_count": 20,
      "outputs": [
        {
          "output_type": "stream",
          "text": [
            "Hello,Marry\n"
          ],
          "name": "stdout"
        }
      ]
    },
    {
      "cell_type": "code",
      "metadata": {
        "id": "fs4GHQCS3M8w",
        "colab_type": "code",
        "colab": {}
      },
      "source": [
        ""
      ],
      "execution_count": 0,
      "outputs": []
    }
  ]
}