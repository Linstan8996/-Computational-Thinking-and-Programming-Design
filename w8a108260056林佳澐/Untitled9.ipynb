{
  "nbformat": 4,
  "nbformat_minor": 0,
  "metadata": {
    "colab": {
      "name": "Untitled9.ipynb",
      "provenance": []
    },
    "kernelspec": {
      "name": "python3",
      "display_name": "Python 3"
    }
  },
  "cells": [
    {
      "cell_type": "code",
      "metadata": {
        "id": "Khp1SvnLs5Yd",
        "colab_type": "code",
        "colab": {
          "base_uri": "https://localhost:8080/",
          "height": 87
        },
        "outputId": "1b610a45-25e3-48b8-9edc-b960b3a6be92"
      },
      "source": [
        "s=input('請輸入一行英文句子')\n",
        "words=s.split(' ')\n",
        "s3=s.title()\n",
        "print('將每個單字自首轉大寫後,獲得句子為',words)\n",
        "\n",
        "\n",
        "print('將英文句子以空白字元切割後,獲得的單字',words)\n",
        "s2=' '.join(words)\n",
        "print('以空白字元結合所有單字後,獲得句子後',s2)"
      ],
      "execution_count": 3,
      "outputs": [
        {
          "output_type": "stream",
          "text": [
            "請輸入一行英文句子an apple a day keeps the doctor away\n",
            "將每個單字自首轉大寫後,獲得句子為 ['an', 'apple', 'a', 'day', 'keeps', 'the', 'doctor', 'away']\n",
            "將英文句子以空白字元切割後,獲得的單字 ['an', 'apple', 'a', 'day', 'keeps', 'the', 'doctor', 'away']\n",
            "以空白字元結合所有單字後,獲得句子後 an apple a day keeps the doctor away\n"
          ],
          "name": "stdout"
        }
      ]
    },
    {
      "cell_type": "code",
      "metadata": {
        "id": "OPrCZMUkvjXD",
        "colab_type": "code",
        "colab": {}
      },
      "source": [
        ""
      ],
      "execution_count": 0,
      "outputs": []
    }
  ]
}