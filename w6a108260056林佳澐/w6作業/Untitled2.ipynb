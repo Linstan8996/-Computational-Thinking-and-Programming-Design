{
  "nbformat": 4,
  "nbformat_minor": 0,
  "metadata": {
    "colab": {
      "name": "Untitled2.ipynb",
      "provenance": []
    },
    "kernelspec": {
      "name": "python3",
      "display_name": "Python 3"
    }
  },
  "cells": [
    {
      "cell_type": "code",
      "metadata": {
        "id": "EhdetpqoRJuD",
        "colab_type": "code",
        "colab": {
          "base_uri": "https://localhost:8080/",
          "height": 104
        },
        "outputId": "ab3f383d-c255-45d9-ab25-9f3ba4767cc9"
      },
      "source": [
        "第一次期中考成績=int(input(\"請輸入第一次期中考成績?\"))\n",
        "第二次期中考成績=int(input(\"請輸入第二次期中考成績?\"))\n",
        "期末考成績=int(input(\"請輸入期末考成績?\"))\n",
        "總分=第一次期中考成績+第二次期中考成績+期末考成績\n",
        "平均=(第一次期中考成績+第二次期中考成績+期末考成績)/3\n",
        "print(\"總分為\",總分)\n",
        "print('平均為',平均)"
      ],
      "execution_count": 1,
      "outputs": [
        {
          "output_type": "stream",
          "text": [
            "請輸入第一次期中考成績?75\n",
            "請輸入第二次期中考成績?80\n",
            "請輸入期末考成績?65\n",
            "總分為 220\n",
            "平均為 73.33333333333333\n"
          ],
          "name": "stdout"
        }
      ]
    },
    {
      "cell_type": "code",
      "metadata": {
        "id": "5xTwSJwnUZOm",
        "colab_type": "code",
        "colab": {}
      },
      "source": [
        ""
      ],
      "execution_count": 0,
      "outputs": []
    },
    {
      "cell_type": "code",
      "metadata": {
        "id": "HR2M8vivUi9W",
        "colab_type": "code",
        "colab": {
          "base_uri": "https://localhost:8080/",
          "height": 69
        },
        "outputId": "157c835e-cc2e-47be-d032-df04ef2b6d4c"
      },
      "source": [
        "x=float(input(\"請輸入幾尺?\"))\n",
        "y=float(input(\"請輸入幾吋?\"))\n",
        "公分=(x*12+y)*2.54\n",
        "print(\"公制為\",公分)"
      ],
      "execution_count": 5,
      "outputs": [
        {
          "output_type": "stream",
          "text": [
            "請輸入幾尺?5\n",
            "請輸入幾吋?8\n",
            "公制為 172.72\n"
          ],
          "name": "stdout"
        }
      ]
    },
    {
      "cell_type": "code",
      "metadata": {
        "id": "1ecWJ9MaV2iF",
        "colab_type": "code",
        "colab": {
          "base_uri": "https://localhost:8080/",
          "height": 87
        },
        "outputId": "125fbf7f-d009-4432-d1fa-af3b6efcab34"
      },
      "source": [
        "座號=int(input(\"請輸入座號?\"))\n",
        "print(\"計算結果顯示如下\")\n",
        "分組=座號/5\n",
        "四捨五入=分組+1\n",
        "分組為=int(四捨五入)\n",
        "print(\"分組\")\n",
        "print(分組為)"
      ],
      "execution_count": 7,
      "outputs": [
        {
          "output_type": "stream",
          "text": [
            "請輸入座號?19\n",
            "計算結果顯示如下\n",
            "分組\n",
            "4\n"
          ],
          "name": "stdout"
        }
      ]
    },
    {
      "cell_type": "code",
      "metadata": {
        "id": "_3jBv6g8Yewy",
        "colab_type": "code",
        "colab": {
          "base_uri": "https://localhost:8080/",
          "height": 52
        },
        "outputId": "341e4cf9-e3eb-4f47-8caf-2c1d26107823"
      },
      "source": [
        "u=float(input(\"輸入購買飲料的罐數\"))\n",
        "p=u/12\n",
        "v=int(p)*200\n",
        "r=0.5*12\n",
        "f=int(r)*20\n",
        "t=v+f\n",
        "print(\"需花費\",t)"
      ],
      "execution_count": 20,
      "outputs": [
        {
          "output_type": "stream",
          "text": [
            "輸入購買飲料的罐數30\n",
            "需花費 520\n"
          ],
          "name": "stdout"
        }
      ]
    },
    {
      "cell_type": "code",
      "metadata": {
        "id": "w2y_iNaYao8N",
        "colab_type": "code",
        "colab": {}
      },
      "source": [
        ""
      ],
      "execution_count": 0,
      "outputs": []
    }
  ]
}